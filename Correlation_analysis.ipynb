{
 "cells": [
  {
   "cell_type": "code",
   "execution_count": 1,
   "metadata": {},
   "outputs": [],
   "source": [
    "import numpy as np\n",
    "import pandas as pd\n",
    "import os\n",
    "from scipy.stats import ks_2samp"
   ]
  },
  {
   "cell_type": "code",
   "execution_count": 2,
   "metadata": {},
   "outputs": [
    {
     "name": "stderr",
     "output_type": "stream",
     "text": [
      "/home/deeplearning/anaconda3/envs/fastai/lib/python3.6/site-packages/h5py/__init__.py:36: FutureWarning: Conversion of the second argument of issubdtype from `float` to `np.floating` is deprecated. In future, it will be treated as `np.float64 == np.dtype(float).type`.\n",
      "  from ._conv import register_converters as _register_converters\n",
      "Using TensorFlow backend.\n"
     ]
    }
   ],
   "source": [
    "import keras as K\n",
    "import keras\n",
    "from keras.layers import *\n",
    "from keras.models import *\n",
    "from keras.callbacks import *"
   ]
  },
  {
   "cell_type": "code",
   "execution_count": 3,
   "metadata": {},
   "outputs": [],
   "source": [
    "from sklearn.model_selection import KFold"
   ]
  },
  {
   "cell_type": "code",
   "execution_count": 4,
   "metadata": {},
   "outputs": [],
   "source": [
    "def rmse(y_true, y_pred):\n",
    "    return K.sqrt(K.mean(K.square(y_pred - y_true)))"
   ]
  },
  {
   "cell_type": "code",
   "execution_count": 5,
   "metadata": {},
   "outputs": [],
   "source": [
    "arch = [\"cnn\", \"capsule\"]\n",
    "text = [\"default\", \"norm\", \"stem\"]\n",
    "embed = [\"fasttext\", \"selftrain_300\", \"selftrain_100\"]"
   ]
  },
  {
   "cell_type": "code",
   "execution_count": 6,
   "metadata": {},
   "outputs": [],
   "source": [
    "all_models = []\n",
    "test_results = []"
   ]
  },
  {
   "cell_type": "code",
   "execution_count": 19,
   "metadata": {},
   "outputs": [],
   "source": [
    "for a in arch:\n",
    "    for t in text:\n",
    "        for e in embed:\n",
    "            model_dict = {}\n",
    "            model_name = f\"{a}_{t}_{e}\"\n",
    "            model_dict[\"name\"] = model_name\n",
    "            try:\n",
    "                test_csv = pd.read_csv(f\"./checkpoint/{model_name}/{model_name}_preds_test.csv\")\n",
    "                model_dict[\"test_csv\"] = test_csv\n",
    "                test_results.append(test_csv[\"deal_probability\"].values)\n",
    "            except:\n",
    "                print(\"[+] There is no test result\")\n",
    "                model_dict[\"test_csv\"] = None\n",
    "            \n",
    "            try:\n",
    "                preds_train = np.load(f\"./checkpoint/{model_name}/{model_name}_train_pred.npy\")\n",
    "                preds_train_csv = pd.DataFrame(preds_train, columns=[\"deal_probability\"])\n",
    "                model_dict[\"train_preds\"] = preds_train_csv\n",
    "            except:\n",
    "                print(\"[+] There is no train result\")\n",
    "                model_dict[\"train_preds\"] = None\n",
    "            all_models.append(model_dict)"
   ]
  },
  {
   "cell_type": "code",
   "execution_count": 7,
   "metadata": {},
   "outputs": [],
   "source": [
    "def avg_test_result():\n",
    "    test_results = np.array(test_results)\n",
    "    test_results = np.mean(test_results, axis=0)\n",
    "    test_csv[\"deal_probability\"] = test_results\n",
    "    test_csv.head(5)\n",
    "    test_csv.to_csv(\"18_NN_avg.csv\", index=False)"
   ]
  },
  {
   "cell_type": "code",
   "execution_count": null,
   "metadata": {},
   "outputs": [],
   "source": []
  },
  {
   "cell_type": "code",
   "execution_count": null,
   "metadata": {},
   "outputs": [],
   "source": []
  },
  {
   "cell_type": "code",
   "execution_count": null,
   "metadata": {},
   "outputs": [],
   "source": []
  },
  {
   "cell_type": "code",
   "execution_count": null,
   "metadata": {},
   "outputs": [],
   "source": []
  },
  {
   "cell_type": "code",
   "execution_count": null,
   "metadata": {},
   "outputs": [],
   "source": []
  },
  {
   "cell_type": "code",
   "execution_count": null,
   "metadata": {},
   "outputs": [],
   "source": []
  },
  {
   "cell_type": "code",
   "execution_count": 8,
   "metadata": {},
   "outputs": [],
   "source": [
    "def get_correlation():\n",
    "    class_name=\"deal_probability\"\n",
    "    for i in range(len(all_models)-1):\n",
    "        model_i = all_models[i]\n",
    "        name_i = model_i[\"name\"]\n",
    "        for j in range(i+1, len(all_models)):\n",
    "            model_j = all_models[j]\n",
    "            name_j = model_j[\"name\"]\n",
    "            print(f\"\\n Correlation between {name_i} and {name_j}\")\n",
    "            print(\" \\n***** Train prediction *****\")\n",
    "            if model_i[\"train_preds\"] is not None and model_j[\"train_preds\"] is not None:\n",
    "                print(' Pearson\\'s correlation score: %0.6f' %\n",
    "                      model_i[\"train_preds\"][class_name].corr(\n",
    "                          model_j[\"train_preds\"][class_name], method='pearson'))\n",
    "                print(' Kendall\\'s correlation score: %0.6f' %\n",
    "                      model_i[\"train_preds\"][class_name].corr(\n",
    "                          model_j[\"train_preds\"][class_name], method='kendall'))\n",
    "                print(' Spearman\\'s correlation score: %0.6f' %\n",
    "                      model_i[\"train_preds\"][class_name].corr(\n",
    "                          model_j[\"train_preds\"][class_name], method='spearman'))\n",
    "                ks_stat, p_value = ks_2samp(model_i[\"train_preds\"][class_name].values,\n",
    "                                            model_j[\"train_preds\"][class_name].values)\n",
    "                print(' Kolmogorov-Smirnov test:    KS-stat = %.6f    p-value = %.3e\\n'\n",
    "                      % (ks_stat, p_value))\n",
    "            else:\n",
    "                print(\" None\\n\")\n",
    "\n",
    "            print(\" ***** Test prediction *****\")\n",
    "            if model_i[\"test_csv\"] is not None and model_j[\"test_csv\"] is not None:\n",
    "                print(' Pearson\\'s correlation score: %0.6f' %\n",
    "                      model_i[\"test_csv\"][class_name].corr(\n",
    "                          model_j[\"test_csv\"][class_name], method='pearson'))\n",
    "                print(' Kendall\\'s correlation score: %0.6f' %\n",
    "                      model_i[\"test_csv\"][class_name].corr(\n",
    "                          model_j[\"test_csv\"][class_name], method='kendall'))\n",
    "                print(' Spearman\\'s correlation score: %0.6f' %\n",
    "                      model_i[\"test_csv\"][class_name].corr(\n",
    "                          model_j[\"test_csv\"][class_name], method='spearman'))\n",
    "                ks_stat, p_value = ks_2samp(model_i[\"test_csv\"][class_name].values,\n",
    "                                            model_j[\"test_csv\"][class_name].values)\n",
    "                print(' Kolmogorov-Smirnov test:    KS-stat = %.6f    p-value = %.3e\\n'\n",
    "                      % (ks_stat, p_value))\n",
    "            else:\n",
    "                print(\" None\\n\")"
   ]
  },
  {
   "cell_type": "code",
   "execution_count": 9,
   "metadata": {},
   "outputs": [],
   "source": [
    "def make_features():\n",
    "    X = []\n",
    "    test = []\n",
    "    for model in all_models:\n",
    "        X.append(model[\"train_preds\"][\"deal_probability\"].values)\n",
    "        test.append(model[\"test_csv\"][\"deal_probability\"].values)\n",
    "    return np.array(X), np.array(test)"
   ]
  },
  {
   "cell_type": "code",
   "execution_count": null,
   "metadata": {},
   "outputs": [],
   "source": [
    "def get_stack_model(n_features, model=\"mlp\"):\n",
    "    if model == \"mlp\":\n",
    "        in_features = Input(shape=(n_features, ))\n",
    "        x = Dense(256, activation=\"linear\")(in_features)\n",
    "        x = Dense(64, activation=\"linear\")(in_features)\n",
    "        x = Dense(1, activation=\"sigmoid\")(x)\n",
    "        \n",
    "        m = Model(inputs=in_features, outputs=x)\n",
    "        m.compile(optimizer=optimizers.Adam(lr=0.001), loss=\"mean_squared_error\", metrics=[rmse])\n",
    "    elif model == \"dnn\":\n",
    "        in_features = Input(shape=(n_features, 1, ))\n",
    "        x = Conv1D(filters=8, kernel_size=3)(in_features)\n",
    "        x = Conv1D(filters=16, kernel_size=3)(x)\n",
    "        x = Conv1D(filters=32, kernel_size=3)(x)\n",
    "        x = Flatten()(x)\n",
    "        x = Dense(32)(x)\n",
    "        x = Dense(1, activation=\"sigmoid\")(x)\n",
    "        \n",
    "        m = Model(inputs=in_features, outputs=x)\n",
    "        m.compile(optimizer=optimizers.Adam(lr=0.001), loss=\"mean_squared_error\", metrics=[rmse])\n",
    "    return m"
   ]
  },
  {
   "cell_type": "code",
   "execution_count": null,
   "metadata": {},
   "outputs": [],
   "source": []
  },
  {
   "cell_type": "code",
   "execution_count": 20,
   "metadata": {},
   "outputs": [],
   "source": [
    "X, test = make_features()\n",
    "y = np.load(\"./features/default/y_train.npy\")\n",
    "X = X.T\n",
    "test = test.T"
   ]
  },
  {
   "cell_type": "code",
   "execution_count": null,
   "metadata": {},
   "outputs": [],
   "source": []
  },
  {
   "cell_type": "code",
   "execution_count": null,
   "metadata": {},
   "outputs": [],
   "source": [
    "# For DNN method only\n",
    "X = np.reshape(X, (X.shape[0], X.shape[1], 1))\n",
    "test = np.reshape(test, (test.shape[0], test.shape[1], 1))"
   ]
  },
  {
   "cell_type": "code",
   "execution_count": 18,
   "metadata": {},
   "outputs": [
    {
     "data": {
      "text/plain": [
       "array([], dtype=float64)"
      ]
     },
     "execution_count": 18,
     "metadata": {},
     "output_type": "execute_result"
    }
   ],
   "source": []
  },
  {
   "cell_type": "code",
   "execution_count": null,
   "metadata": {},
   "outputs": [],
   "source": []
  },
  {
   "cell_type": "code",
   "execution_count": 11,
   "metadata": {},
   "outputs": [],
   "source": [
    "stack_folder = \"stack_folder\"\n",
    "if not os.path.exists(stack_folder):\n",
    "    os.mkdir(stack_folder)"
   ]
  },
  {
   "cell_type": "code",
   "execution_count": null,
   "metadata": {},
   "outputs": [],
   "source": [
    "k=5\n",
    "kf = KFold(5, shuffle=True, random_state=2018)\n",
    "\n",
    "test_preds_all = []\n",
    "for fold, (train_index, val_index) in enumerate(kf.split(X)):\n",
    "    print(f\"[+] Fold {fold}\")\n",
    "    \n",
    "    model = get_stack_model(X.shape[1], model=\"dnn\")\n",
    "    model.summary()\n",
    "    \n",
    "    file_path = f\"{stack_folder}/stack_model_{fold}.h5\"\n",
    "    checkpoint = ModelCheckpoint(file_path, monitor='val_loss', verbose=2, save_best_only=True,\n",
    "                                 save_weights_only=True,\n",
    "                                 mode='min')\n",
    "    early = EarlyStopping(monitor=\"val_loss\", mode=\"min\", patience=3)\n",
    "    lr_reduced = ReduceLROnPlateau(monitor='val_loss',\n",
    "                               factor=0.1,\n",
    "                               patience=2,\n",
    "                               verbose=1,\n",
    "                               epsilon=1e-4,\n",
    "                               min_lr=1e-5,\n",
    "                               mode='min')\n",
    "    callbacks_list = [early, checkpoint, lr_reduced]\n",
    "    \n",
    "    X_train = X[train_index]\n",
    "    y_train = y[train_index]\n",
    "    \n",
    "    X_val = X[val_index]\n",
    "    y_val = y[val_index]\n",
    "    \n",
    "    model.fit(X_train, y_train, \n",
    "              validation_data=(X_val, y_val),\n",
    "              verbose=1,\n",
    "              callbacks=callbacks_list,\n",
    "              epochs=100, batch_size=1024)\n",
    "    \n",
    "    model.load_weights(file_path)\n",
    "    test_preds = model.predict(test, batch_size=1024)\n",
    "    test_preds_all.append(test_preds)"
   ]
  },
  {
   "cell_type": "code",
   "execution_count": null,
   "metadata": {},
   "outputs": [],
   "source": [
    "test_preds = np.array(test_preds_all)\n",
    "test_preds_mean = np.mean(test_preds, axis=0)"
   ]
  },
  {
   "cell_type": "code",
   "execution_count": null,
   "metadata": {},
   "outputs": [],
   "source": [
    "test_csv[\"deal_probability\"] = test_preds_mean"
   ]
  },
  {
   "cell_type": "code",
   "execution_count": null,
   "metadata": {},
   "outputs": [],
   "source": [
    "test_csv.head(5)"
   ]
  },
  {
   "cell_type": "code",
   "execution_count": null,
   "metadata": {},
   "outputs": [],
   "source": [
    "test_csv.to_csv(\"18_NN_Stack_NN.csv\", index=False)"
   ]
  },
  {
   "cell_type": "code",
   "execution_count": null,
   "metadata": {},
   "outputs": [],
   "source": [
    "test_avg = pd.read_csv(\"18_NN_avg.csv\")"
   ]
  },
  {
   "cell_type": "code",
   "execution_count": null,
   "metadata": {},
   "outputs": [],
   "source": [
    "print(' Pearson\\'s correlation score: %0.6f' %\n",
    "      test_csv[\"deal_probability\"].corr(\n",
    "          test_avg[\"deal_probability\"], method='pearson'))"
   ]
  },
  {
   "cell_type": "code",
   "execution_count": null,
   "metadata": {},
   "outputs": [],
   "source": []
  },
  {
   "cell_type": "code",
   "execution_count": null,
   "metadata": {},
   "outputs": [],
   "source": []
  },
  {
   "cell_type": "code",
   "execution_count": 14,
   "metadata": {},
   "outputs": [],
   "source": [
    "import lightgbm as lgb\n",
    "from sklearn.model_selection import train_test_split"
   ]
  },
  {
   "cell_type": "code",
   "execution_count": 13,
   "metadata": {},
   "outputs": [],
   "source": [
    "lgbm_params = {\n",
    "    'task': 'train',\n",
    "    'boosting_type': 'gbdt',\n",
    "    'objective': 'regression',\n",
    "    'metric': 'rmse',\n",
    "    'max_depth': 15,\n",
    "    'num_leaves': 35,\n",
    "    'feature_fraction': 0.7,\n",
    "    'bagging_fraction': 0.8,\n",
    "    # 'bagging_freq': 5,\n",
    "    'learning_rate': 0.019,\n",
    "    'verbose': 0\n",
    "}"
   ]
  },
  {
   "cell_type": "code",
   "execution_count": 22,
   "metadata": {},
   "outputs": [],
   "source": [
    "X_train, X_valid, y_train, y_valid = train_test_split(X, y)\n",
    "\n",
    "# LGBM Dataset Formatting\n",
    "lgtrain = lgb.Dataset(X_train, y_train)\n",
    "lgvalid = lgb.Dataset(X_valid, y_valid)"
   ]
  },
  {
   "cell_type": "code",
   "execution_count": 23,
   "metadata": {},
   "outputs": [
    {
     "name": "stdout",
     "output_type": "stream",
     "text": [
      "Training until validation scores don't improve for 200 rounds.\n",
      "[200]\ttrain's rmse: 0.206358\tvalid's rmse: 0.207005\n",
      "[400]\ttrain's rmse: 0.205365\tvalid's rmse: 0.206401\n",
      "[600]\ttrain's rmse: 0.204854\tvalid's rmse: 0.206266\n",
      "[800]\ttrain's rmse: 0.204432\tvalid's rmse: 0.206206\n",
      "[1000]\ttrain's rmse: 0.204065\tvalid's rmse: 0.206168\n",
      "[1200]\ttrain's rmse: 0.20371\tvalid's rmse: 0.206144\n",
      "[1400]\ttrain's rmse: 0.203383\tvalid's rmse: 0.206131\n",
      "[1600]\ttrain's rmse: 0.203062\tvalid's rmse: 0.206123\n",
      "[1800]\ttrain's rmse: 0.20276\tvalid's rmse: 0.206115\n",
      "[2000]\ttrain's rmse: 0.202462\tvalid's rmse: 0.206114\n",
      "[2200]\ttrain's rmse: 0.202181\tvalid's rmse: 0.206114\n",
      "Early stopping, best iteration is:\n",
      "[2106]\ttrain's rmse: 0.20231\tvalid's rmse: 0.206111\n"
     ]
    }
   ],
   "source": [
    "lgb_clf = lgb.train(\n",
    "    lgbm_params,\n",
    "    lgtrain,\n",
    "    num_boost_round=15000,\n",
    "    valid_sets=[lgtrain, lgvalid],\n",
    "    valid_names=['train', 'valid'],\n",
    "    early_stopping_rounds=200,\n",
    "    verbose_eval=200\n",
    ")"
   ]
  },
  {
   "cell_type": "code",
   "execution_count": 26,
   "metadata": {},
   "outputs": [
    {
     "data": {
      "image/png": "[encoded data removed]",
      "text/plain": [
       "<Figure size 504x720 with 1 Axes>"
      ]
     },
     "metadata": {},
     "output_type": "display_data"
    }
   ],
   "source": [
    "import matplotlib.pyplot as plt\n",
    "f, ax = plt.subplots(figsize=[7, 10])\n",
    "lgb.plot_importance(lgb_clf, max_num_features=50, ax=ax)\n",
    "plt.title(\"Light GBM Feature Importance\")\n",
    "plt.savefig(f'feature_import_fold.png')"
   ]
  },
  {
   "cell_type": "code",
   "execution_count": 28,
   "metadata": {},
   "outputs": [],
   "source": [
    "lgpred = lgb_clf.predict(test)\n",
    "sample_csv = pd.read_csv(\"18_NN_avg.csv\")\n",
    "sample_csv[\"deal_probability\"] = lgpred"
   ]
  },
  {
   "cell_type": "code",
   "execution_count": 29,
   "metadata": {},
   "outputs": [],
   "source": [
    "NN_avg = pd.read_csv(\"18_NN_avg.csv\")"
   ]
  },
  {
   "cell_type": "code",
   "execution_count": 30,
   "metadata": {},
   "outputs": [
    {
     "name": "stdout",
     "output_type": "stream",
     "text": [
      " Pearson's correlation score: 0.952854\n"
     ]
    }
   ],
   "source": [
    "print(' Pearson\\'s correlation score: %0.6f' %\n",
    "      sample_csv[\"deal_probability\"].corr(\n",
    "          NN_avg[\"deal_probability\"], method='pearson'))"
   ]
  },
  {
   "cell_type": "code",
   "execution_count": 31,
   "metadata": {},
   "outputs": [
    {
     "data": {
      "text/html": [
       "<div>\n",
       "<style scoped>\n",
       "    .dataframe tbody tr th:only-of-type {\n",
       "        vertical-align: middle;\n",
       "    }\n",
       "\n",
       "    .dataframe tbody tr th {\n",
       "        vertical-align: top;\n",
       "    }\n",
       "\n",
       "    .dataframe thead th {\n",
       "        text-align: right;\n",
       "    }\n",
       "</style>\n",
       "<table border=\"1\" class=\"dataframe\">\n",
       "  <thead>\n",
       "    <tr style=\"text-align: right;\">\n",
       "      <th></th>\n",
       "      <th>item_id</th>\n",
       "      <th>deal_probability</th>\n",
       "    </tr>\n",
       "  </thead>\n",
       "  <tbody>\n",
       "    <tr>\n",
       "      <th>0</th>\n",
       "      <td>6544e41a8817</td>\n",
       "      <td>0.183116</td>\n",
       "    </tr>\n",
       "    <tr>\n",
       "      <th>1</th>\n",
       "      <td>65b9484d670f</td>\n",
       "      <td>0.140310</td>\n",
       "    </tr>\n",
       "    <tr>\n",
       "      <th>2</th>\n",
       "      <td>8bab230b2ecd</td>\n",
       "      <td>0.166635</td>\n",
       "    </tr>\n",
       "    <tr>\n",
       "      <th>3</th>\n",
       "      <td>8e348601fefc</td>\n",
       "      <td>0.104253</td>\n",
       "    </tr>\n",
       "    <tr>\n",
       "      <th>4</th>\n",
       "      <td>8bd2fe400b89</td>\n",
       "      <td>0.132897</td>\n",
       "    </tr>\n",
       "  </tbody>\n",
       "</table>\n",
       "</div>"
      ],
      "text/plain": [
       "        item_id  deal_probability\n",
       "0  6544e41a8817          0.183116\n",
       "1  65b9484d670f          0.140310\n",
       "2  8bab230b2ecd          0.166635\n",
       "3  8e348601fefc          0.104253\n",
       "4  8bd2fe400b89          0.132897"
      ]
     },
     "execution_count": 31,
     "metadata": {},
     "output_type": "execute_result"
    }
   ],
   "source": [
    "sample_csv.head(5)"
   ]
  },
  {
   "cell_type": "code",
   "execution_count": 32,
   "metadata": {},
   "outputs": [],
   "source": [
    "sample_csv['deal_probability'].clip(0.0, 1.0, inplace=True)"
   ]
  },
  {
   "cell_type": "code",
   "execution_count": 33,
   "metadata": {},
   "outputs": [],
   "source": [
    "sample_csv.to_csv(f\"18_NN_tree.csv\", index=False)"
   ]
  },
  {
   "cell_type": "code",
   "execution_count": null,
   "metadata": {},
   "outputs": [],
   "source": []
  },
  {
   "cell_type": "code",
   "execution_count": null,
   "metadata": {},
   "outputs": [],
   "source": []
  }
 ],
 "metadata": {
  "kernelspec": {
   "display_name": "Python 3",
   "language": "python",
   "name": "python3"
  },
  "language_info": {
   "codemirror_mode": {
    "name": "ipython",
    "version": 3
   },
   "file_extension": ".py",
   "mimetype": "text/x-python",
   "name": "python",
   "nbconvert_exporter": "python",
   "pygments_lexer": "ipython3",
   "version": "3.6.4"
  }
 },
 "nbformat": 4,
 "nbformat_minor": 2
}
